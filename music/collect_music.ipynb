{
 "cells": [
  {
   "cell_type": "code",
   "execution_count": 6,
   "metadata": {},
   "outputs": [],
   "source": [
    "import numpy as np\n",
    "import pandas as pd\n",
    "\n",
    "from vk import VkAPI\n",
    "import multiprocessing as mp\n",
    "from time import sleep\n",
    "from multiprocessing import Process, Pool"
   ]
  },
  {
   "cell_type": "markdown",
   "metadata": {},
   "source": [
    "### Import list of users ids"
   ]
  },
  {
   "cell_type": "code",
   "execution_count": 2,
   "metadata": {},
   "outputs": [],
   "source": [
    "df = pd.read_csv('users_activities_groups.csv')\n",
    "df = df.drop(columns=['Unnamed: 0'])\n",
    "df = df.drop_duplicates(subset=['user_id'])"
   ]
  },
  {
   "cell_type": "code",
   "execution_count": 3,
   "metadata": {},
   "outputs": [
    {
     "data": {
      "text/plain": [
       "28997"
      ]
     },
     "execution_count": 3,
     "metadata": {},
     "output_type": "execute_result"
    }
   ],
   "source": [
    "users = list(df['user_id'])\n",
    "len(users)"
   ]
  },
  {
   "cell_type": "markdown",
   "metadata": {},
   "source": [
    "### Collect music"
   ]
  },
  {
   "cell_type": "code",
   "execution_count": 4,
   "metadata": {},
   "outputs": [],
   "source": [
    "vk_api = VkAPI()"
   ]
  },
  {
   "cell_type": "code",
   "execution_count": 16,
   "metadata": {},
   "outputs": [],
   "source": [
    "def download_music_for_users(users, filename_music='music', filename_errors='errors', percent=0.5):\n",
    "    for user_id in users:\n",
    "        try:\n",
    "            tracks_list = vk_api.get_music_list(user_id=user_id)\n",
    "            for track in tracks_list:\n",
    "                with open(filename_music, 'a', encoding='utf-8') as tracks_file:\n",
    "                    tracks_file.write(f'{user_id},{track[\"id\"]},{track[\"artist\"]},{track[\"title\"]}\\n')\n",
    "        except Exception as ex:\n",
    "            with open(filename_errors, 'a', encoding='utf-8') as errors_file:\n",
    "                errors_file.write(f'{user_id},{ex}\\n')"
   ]
  },
  {
   "cell_type": "code",
   "execution_count": 18,
   "metadata": {},
   "outputs": [],
   "source": [
    "def run(users, processes_num=8):\n",
    "\n",
    "    users_batch_size = len(users) // processes_num\n",
    "    users_batches = []\n",
    "    j = users_batch_size\n",
    "    for k in range(processes_num):\n",
    "        i = users_batch_size * k\n",
    "        users_batches.append(users[i:j])\n",
    "        j = users_batch_size * (k + 2)\n",
    "\n",
    "    pool = Pool(processes_num)\n",
    "    pool.map(download_music_for_users, [row for row in users_batches])\n",
    "    pool.close()"
   ]
  },
  {
   "cell_type": "code",
   "execution_count": null,
   "metadata": {},
   "outputs": [],
   "source": [
    "run(users)"
   ]
  }
 ],
 "metadata": {
  "kernelspec": {
   "display_name": "Python 3",
   "language": "python",
   "name": "python3"
  },
  "language_info": {
   "codemirror_mode": {
    "name": "ipython",
    "version": 3
   },
   "file_extension": ".py",
   "mimetype": "text/x-python",
   "name": "python",
   "nbconvert_exporter": "python",
   "pygments_lexer": "ipython3",
   "version": "3.7.5"
  }
 },
 "nbformat": 4,
 "nbformat_minor": 2
}
